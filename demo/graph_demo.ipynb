{
 "cells": [
  {
   "cell_type": "code",
   "execution_count": 1,
   "metadata": {
    "scrolled": true
   },
   "outputs": [],
   "source": [
    "import sys\n",
    "sys.path.insert(0, '..')\n",
    "sys.path.insert(0, '../util')\n",
    "\n",
    "import random\n",
    "from tree.tree_node import BinaryTreeNode\n",
    "from util.tree_alg import insert_bst\n",
    "import util.visualization as vis_util"
   ]
  },
  {
   "cell_type": "code",
   "execution_count": 6,
   "metadata": {},
   "outputs": [],
   "source": [
    "root = BinaryTreeNode(0)\n",
    "for _ in range(10):\n",
    "    insert_bst(root, random.randint(-100, 100))"
   ]
  },
  {
   "cell_type": "code",
   "execution_count": 7,
   "metadata": {},
   "outputs": [
    {
     "data": {
      "text/html": [
       "<div id=\"graph-6bd88d95-ea4a-4791-b511-eec01eac4453\"></div>\n",
       "           <script type=\"text/javascript\">\n",
       "           require.config({baseUrl: '/',\n",
       "                             paths: {jgraph: ['nbextensions/jgraph.min', 'https://rawgit.com/patrickfuller/jgraph/master/js/build/jgraph.min']}});\n",
       "           require(['jgraph'], function () {\n",
       "               var $d = $('#graph-6bd88d95-ea4a-4791-b511-eec01eac4453');\n",
       "               $d.width(600); $d.height(400);\n",
       "               $d.jgraph = jQuery.extend({}, jgraph);\n",
       "               $d.jgraph.create($d, {nodeSize: 2.000000,\n",
       "                                     edgeSize: 0.250000,\n",
       "                                     defaultNodeColor: '0x5bc0de',\n",
       "                                     defaultEdgeColor: '0xaaaaaa',\n",
       "                                     shader: 'basic',\n",
       "                                     z: 100,\n",
       "                                     runOptimization: true,\n",
       "                                     directed: true,\n",
       "                                     showSave: false});\n",
       "               $d.jgraph.draw({\n",
       "    \"edges\": [\n",
       "        { \"source\": \"5a97d65c-eb7a-11e8-85a1-74c63b010ddf\", \"target\": \"5a97d65d-eb7a-11e8-a903-74c63b010ddf\" },\n",
       "        { \"source\": \"5a97d65c-eb7a-11e8-85a1-74c63b010ddf\", \"target\": \"5a97d65f-eb7a-11e8-b060-74c63b010ddf\" },\n",
       "        { \"source\": \"5a97d65d-eb7a-11e8-a903-74c63b010ddf\", \"target\": \"5a97d65c-eb7a-11e8-85a1-74c63b010ddf\" },\n",
       "        { \"source\": \"5a97d65d-eb7a-11e8-a903-74c63b010ddf\", \"target\": \"5a97d65e-eb7a-11e8-ad05-74c63b010ddf\" },\n",
       "        { \"source\": \"5a97d65f-eb7a-11e8-b060-74c63b010ddf\", \"target\": \"5a97d65c-eb7a-11e8-85a1-74c63b010ddf\" },\n",
       "        { \"source\": \"5a97d65f-eb7a-11e8-b060-74c63b010ddf\", \"target\": \"5a97d660-eb7a-11e8-97a4-74c63b010ddf\" },\n",
       "        { \"source\": \"5a97d65f-eb7a-11e8-b060-74c63b010ddf\", \"target\": \"5a97d663-eb7a-11e8-ac8e-74c63b010ddf\" }\n",
       "    ],\n",
       "    \"nodes\": {\n",
       "        \"5a97d65c-eb7a-11e8-85a1-74c63b010ddf\": { \"location\": [ 2.0, 2.0, 2.0 ] },\n",
       "        \"5a97d65d-eb7a-11e8-a903-74c63b010ddf\": { \"location\": [ -1.631875706135221, -1.7315432353484494, -1.6913370086442066 ] },\n",
       "        \"5a97d65e-eb7a-11e8-ad05-74c63b010ddf\": { \"location\": [ -2.0, -2.0, -2.0 ] },\n",
       "        \"5a97d65f-eb7a-11e8-b060-74c63b010ddf\": { \"location\": [ 1.3221071080962028, 1.363120000182239, 1.9339932849681822 ] },\n",
       "        \"5a97d660-eb7a-11e8-97a4-74c63b010ddf\": { \"location\": [ -0.8332083716118167, -0.19235844289748266, -0.3926232659630586 ] },\n",
       "        \"5a97d663-eb7a-11e8-ac8e-74c63b010ddf\": { \"location\": [ 0.8432611853219208, 0.6343086206656093, 0.30979219863017365 ] }\n",
       "    }\n",
       "});\n",
       "\n",
       "               $d.resizable({\n",
       "                   aspectRatio: 600 / 400,\n",
       "                   resize: function (evt, ui) {\n",
       "                       $d.jgraph.renderer.setSize(ui.size.width,\n",
       "                                                  ui.size.height);\n",
       "                   }\n",
       "               });\n",
       "           });\n",
       "           </script>"
      ],
      "text/plain": [
       "<IPython.core.display.HTML object>"
      ]
     },
     "metadata": {},
     "output_type": "display_data"
    }
   ],
   "source": [
    "vis_util.draw_garph_3d(root)"
   ]
  }
 ],
 "metadata": {
  "kernelspec": {
   "display_name": "Python 3",
   "language": "python",
   "name": "python3"
  },
  "language_info": {
   "codemirror_mode": {
    "name": "ipython",
    "version": 3
   },
   "file_extension": ".py",
   "mimetype": "text/x-python",
   "name": "python",
   "nbconvert_exporter": "python",
   "pygments_lexer": "ipython3",
   "version": "3.6.7"
  }
 },
 "nbformat": 4,
 "nbformat_minor": 2
}
